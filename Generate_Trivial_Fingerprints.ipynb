{
 "cells": [
  {
   "cell_type": "code",
   "execution_count": 41,
   "metadata": {
    "collapsed": false
   },
   "outputs": [],
   "source": [
    "from __future__ import division\n",
    "\n",
    "import numpy as np\n",
    "import matplotlib.pyplot as plt\n",
    "import os\n",
    "\n",
    "%matplotlib inline"
   ]
  },
  {
   "cell_type": "code",
   "execution_count": 57,
   "metadata": {
    "collapsed": false
   },
   "outputs": [],
   "source": [
    "stripe_width = 15\n",
    "gap = 20\n",
    "offset = 2\n",
    "image_size = 250"
   ]
  },
  {
   "cell_type": "code",
   "execution_count": 79,
   "metadata": {
    "collapsed": true
   },
   "outputs": [],
   "source": [
    "def all_indices(value, qlist):\n",
    "    indices = []\n",
    "    idx = -1\n",
    "    while True:\n",
    "        try:\n",
    "            idx = qlist.index(value, idx+1)\n",
    "            indices.append(idx)\n",
    "        except ValueError:\n",
    "            break\n",
    "    return indices\n",
    "\n",
    "def grayify_cmap(cmap):\n",
    "    \"\"\"Return a grayscale version of the colormap\"\"\"\n",
    "    cmap = plt.cm.get_cmap(cmap)\n",
    "    colors = cmap(np.arange(cmap.N))\n",
    "    \n",
    "    # convert RGBA to perceived greyscale luminance\n",
    "    # cf. http://alienryderflex.com/hsp.html\n",
    "    RGB_weight = [0.299, 0.587, 0.114]\n",
    "    luminance = np.sqrt(np.dot(colors[:, :3] ** 2, RGB_weight))\n",
    "    colors[:, :3] = luminance[:, np.newaxis]\n",
    "    \n",
    "    return cmap.from_list(cmap.name + \"_grayscale\", colors, cmap.N)"
   ]
  },
  {
   "cell_type": "code",
   "execution_count": 80,
   "metadata": {
    "collapsed": false
   },
   "outputs": [
    {
     "data": {
      "text/plain": [
       "<matplotlib.image.AxesImage at 0x7f95ab99bc90>"
      ]
     },
     "execution_count": 80,
     "metadata": {},
     "output_type": "execute_result"
    },
    {
     "data": {
      "image/png": "[encoded data removed]",
      "text/plain": [
       "<matplotlib.figure.Figure at 0x7f95ab40af10>"
      ]
     },
     "metadata": {},
     "output_type": "display_data"
    }
   ],
   "source": [
    "canvas = np.zeros((image_size, image_size))\n",
    "current_col = 0\n",
    "while current_col < image_size:\n",
    "    if current_col + stripe_width + gap <= image_size-1:\n",
    "        canvas[:, current_col:current_col+stripe_width] = 1\n",
    "        current_col += stripe_width + gap\n",
    "    elif current_col + stripe_width <= image_size-1:\n",
    "        canvas[:, current_col:current_col+stripe_width] = 1\n",
    "        current_col = image_size\n",
    "    else:\n",
    "        canvas[:, current_col:] = 1\n",
    "        current_col = image_size\n",
    "    \n",
    "plt.imshow(canvas, cmap=grayify_cmap('Greys'))"
   ]
  },
  {
   "cell_type": "code",
   "execution_count": 81,
   "metadata": {
    "collapsed": false
   },
   "outputs": [
    {
     "data": {
      "text/plain": [
       "<matplotlib.image.AxesImage at 0x7f95ab99b610>"
      ]
     },
     "execution_count": 81,
     "metadata": {},
     "output_type": "execute_result"
    },
    {
     "data": {
      "image/png": "[encoded data removed]",
      "text/plain": [
       "<matplotlib.figure.Figure at 0x7f95aaf4c850>"
      ]
     },
     "metadata": {},
     "output_type": "display_data"
    }
   ],
   "source": [
    "canvas = np.zeros((image_size, image_size))\n",
    "new_canvas = np.zeros((image_size, image_size))\n",
    "current_col = 0\n",
    "\n",
    "while current_col < image_size:\n",
    "    if current_col + stripe_width + gap <= image_size-1:\n",
    "        canvas[:, current_col:current_col+stripe_width] = 1\n",
    "        current_col += stripe_width + gap\n",
    "    elif current_col + stripe_width <= image_size-1:\n",
    "        canvas[:, current_col:current_col+stripe_width] = 1\n",
    "        current_col = image_size\n",
    "    else:\n",
    "        canvas[:, current_col:] = 1\n",
    "        current_col = image_size\n",
    "    \n",
    "for i in range(image_size-1):\n",
    "    blacks = all_indices(1, list(canvas[i,:]))\n",
    "    new_blacks = [(blacks[j] + offset)%image_size for j in range(len(blacks))]\n",
    "    canvas[i+1, :] = 0\n",
    "    canvas[i+1, new_blacks] = 1\n",
    "    \n",
    "plt.imshow(canvas, cmap=grayify_cmap('Greys'))"
   ]
  },
  {
   "cell_type": "code",
   "execution_count": null,
   "metadata": {
    "collapsed": true
   },
   "outputs": [],
   "source": []
  }
 ],
 "metadata": {
  "kernelspec": {
   "display_name": "Python [Root]",
   "language": "python",
   "name": "Python [Root]"
  },
  "language_info": {
   "codemirror_mode": {
    "name": "ipython",
    "version": 2
   },
   "file_extension": ".py",
   "mimetype": "text/x-python",
   "name": "python",
   "nbconvert_exporter": "python",
   "pygments_lexer": "ipython2",
   "version": "2.7.12"
  }
 },
 "nbformat": 4,
 "nbformat_minor": 0
}
