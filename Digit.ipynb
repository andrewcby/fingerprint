{
 "cells": [
  {
   "cell_type": "code",
   "execution_count": 1,
   "metadata": {
    "collapsed": false
   },
   "outputs": [
    {
     "name": "stdout",
     "output_type": "stream",
     "text": [
      "Extracting MNIST_data/train-images-idx3-ubyte.gz\n",
      "Extracting MNIST_data/train-labels-idx1-ubyte.gz\n",
      "Extracting MNIST_data/t10k-images-idx3-ubyte.gz\n",
      "Extracting MNIST_data/t10k-labels-idx1-ubyte.gz\n"
     ]
    }
   ],
   "source": [
    "import os, random\n",
    "\n",
    "import numpy as np\n",
    "import tensorflow as tf\n",
    "import matplotlib.pyplot as plt\n",
    "import InterfacePreprocessing as IntPre\n",
    "\n",
    "from PIL import Image\n",
    "from scipy.ndimage import imread\n",
    "from scipy.misc import imresize\n",
    "from sklearn.metrics import roc_curve, auc\n",
    "from tensorflow.examples.tutorials.mnist import input_data\n",
    "\n",
    "mnist = input_data.read_data_sets('MNIST_data', one_hot=True)\n",
    "\n",
    "%matplotlib inline"
   ]
  },
  {
   "cell_type": "code",
   "execution_count": 2,
   "metadata": {
    "collapsed": true
   },
   "outputs": [],
   "source": [
    "def weight_variable(shape):\n",
    "    initial = tf.truncated_normal(shape, stddev=0.1)\n",
    "    return tf.Variable(initial)\n",
    "\n",
    "def bias_variable(shape):\n",
    "    initial = tf.constant(0.3, shape=shape)\n",
    "    return tf.Variable(initial)\n",
    "\n",
    "def conv2d(x, W, stride=[1, 1, 1, 1]):\n",
    "    return tf.nn.conv2d(x, W, strides=stride, padding='SAME')\n",
    "\n",
    "def max_pool_2x2(x):\n",
    "    return tf.nn.max_pool(x, ksize=[1, 2, 2, 1],\n",
    "                        strides=[1, 2, 2, 1], padding='SAME')\n",
    "\n",
    "def generate_batch_mnist(n, mode='train'):\n",
    "    x, x_p = np.zeros((n, 784)), np.zeros((n, 784))\n",
    "    y = np.zeros((n,1))\n",
    "    \n",
    "    matched = 0\n",
    "    mismatched = np.round(n/2)\n",
    "    while matched < np.round(n/2):\n",
    "        if mode == 'train':\n",
    "            batch = mnist.train.next_batch(2, )\n",
    "        elif mode == 'test':\n",
    "            batch = mnist.test.next_batch(2)\n",
    "        else:\n",
    "            batch = mnist.validation.next_batch(2)\n",
    "        \n",
    "        if np.argmax(batch[1],axis=1)[0] == np.argmax(batch[1],axis=1)[1]:\n",
    "            x[matched,:] = batch[0][0,:]\n",
    "            x_p[matched,:] = batch[0][1,:]\n",
    "            y[matched] = 1\n",
    "            matched += 1\n",
    "            \n",
    "        elif mismatched > 0:\n",
    "            x[-mismatched,:] = batch[0][0,:]\n",
    "            x_p[-mismatched,:] = batch[0][1,:]\n",
    "            mismatched -= 1\n",
    "            \n",
    "    return [x, x_p, y]  "
   ]
  },
  {
   "cell_type": "code",
   "execution_count": 7,
   "metadata": {
    "collapsed": false
   },
   "outputs": [],
   "source": [
    "x = tf.placeholder(tf.float32, shape=[None, 784])\n",
    "y_ = tf.placeholder(tf.float32, shape=[None, 10])\n",
    "\n",
    "x_image = tf.reshape(x, [-1,28,28,1])\n",
    "\n",
    "# 1 - output 14*14*20\n",
    "\n",
    "W_conv1 = weight_variable([7, 7, 1, 20])\n",
    "b_conv1 = bias_variable([20])\n",
    "\n",
    "h_conv1 = tf.nn.relu(conv2d(x_image, W_conv1) + b_conv1)\n",
    "h_pool1 = max_pool_2x2(h_conv1)\n",
    "\n",
    "# 2 - output 7*7*80\n",
    "\n",
    "W_conv2 = weight_variable([5, 5, 20, 40])\n",
    "b_conv2 = bias_variable([40])\n",
    "\n",
    "h_conv2 = tf.nn.relu(conv2d(h_pool1, W_conv2) + b_conv2)\n",
    "h_pool2 = max_pool_2x2(h_conv2)\n",
    "\n",
    "# 3 - output 4*4*320\n",
    "\n",
    "W_conv3 = weight_variable([5, 5, 40, 80])\n",
    "b_conv3 = bias_variable([80])\n",
    "\n",
    "h_conv3 = tf.nn.relu(conv2d(h_pool2, W_conv3) + b_conv3)\n",
    "h_pool3 = max_pool_2x2(h_conv3)\n",
    "\n",
    "# fc\n",
    "\n",
    "W_fc1 = weight_variable([4*4*80, 1024])\n",
    "b_fc1 = bias_variable([1024])\n",
    "\n",
    "h_pool3_flat = tf.reshape(h_pool3, [-1, 4*4*80])\n",
    "h_fc1 = tf.nn.relu(tf.matmul(h_pool3_flat, W_fc1) + b_fc1)\n",
    "\n",
    "keep_prob = tf.placeholder(tf.float32)\n",
    "h_fc1_drop = tf.nn.dropout(h_fc1, keep_prob)\n",
    "\n",
    "W_fc2 = weight_variable([1024, 10])\n",
    "b_fc2 = bias_variable([10])\n",
    "\n",
    "y_conv=tf.nn.softmax(tf.matmul(h_fc1_drop, W_fc2) + b_fc2)\n",
    "\n",
    "cross_entropy = tf.reduce_mean(-tf.reduce_sum(y_ * tf.log(y_conv), reduction_indices=[1]))\n",
    "train_step = tf.train.AdamOptimizer(1e-4).minimize(cross_entropy)\n",
    "correct_prediction = tf.equal(tf.argmax(y_conv,1), tf.argmax(y_,1))\n",
    "accuracy = tf.reduce_mean(tf.cast(correct_prediction, tf.float32))"
   ]
  },
  {
   "cell_type": "code",
   "execution_count": null,
   "metadata": {
    "collapsed": true
   },
   "outputs": [],
   "source": [
    "cross_entropy = tf.reduce_mean(-tf.reduce_sum(y_ * tf.log(y_conv), reduction_indices=[1]))\n",
    "train_step = tf.train.AdamOptimizer(1e-4).minimize(cross_entropy)\n",
    "correct_prediction = tf.equal(tf.argmax(y_conv,1), tf.argmax(y_,1))\n",
    "accuracy = tf.reduce_mean(tf.cast(correct_prediction, tf.float32))\n",
    "trainlab = tf.argmax(y_,1)\n",
    "predlab = tf.argmax(y_conv,1)\n",
    "sess.run(tf.initialize_all_variables())\n",
    "for i in range(1000):\n",
    "    batch = mnist.test.next_batch(50)\n",
    "    if i%100 == 0:\n",
    "        train_accuracy = accuracy.eval(feed_dict={x:batch[0], y_: batch[1], keep_prob: 1.0})\n",
    "        print(\"step %d, training accuracy %g\"%(i, train_accuracy))\n",
    "#         print trainlab.eval(feed_dict={x:batch[0], y_: batch[1], keep_prob: 1.0})[0:10], predlab.eval(feed_dict={x:batch[0], y_: batch[1], keep_prob: 1.0})[0:10]\n",
    "    train_step.run(feed_dict={x: batch[0], y_: batch[1], keep_prob: 0.5})\n",
    "\n",
    "print(\"test accuracy %g\"%accuracy.eval(feed_dict={\n",
    "    x: mnist.test.images, y_: mnist.test.labels, keep_prob: 1.0}))"
   ]
  },
  {
   "cell_type": "code",
   "execution_count": null,
   "metadata": {
    "collapsed": false
   },
   "outputs": [],
   "source": [
    "saver = tf.train.Saver({\"W1\": W_conv1, \"W2\": W_conv2,\"W3\": W_conv3,\n",
    "                        \"b1\": b_conv1,\"b2\": b_conv2,\"b3\": b_conv3,\n",
    "                        \"W_fc1\": W_fc1, \"b_fc1\": b_fc1,\n",
    "                        \"W_fc2\": W_fc2, \"b_fc2\": b_fc2})\n",
    "\n",
    "init_op = tf.initialize_all_variables()\n",
    "\n",
    "# Later, launch the model, initialize the variables, do some work, save the\n",
    "# variables to disk.\n",
    "with tf.Session() as sess:\n",
    "    sess.run(init_op)\n",
    "    \n",
    "    # Do some work with the model.\n",
    "    cross_entropy = tf.reduce_mean(-tf.reduce_sum(y_ * tf.log(y_conv), reduction_indices=[1]))\n",
    "    train_step = tf.train.AdamOptimizer(1e-4).minimize(cross_entropy)\n",
    "    correct_prediction = tf.equal(tf.argmax(y_conv,1), tf.argmax(y_,1))\n",
    "    accuracy = tf.reduce_mean(tf.cast(correct_prediction, tf.float32))\n",
    "    \n",
    "    sess.run(tf.initialize_all_variables())\n",
    "    \n",
    "    for i in range(1000):\n",
    "        batch = mnist.train.next_batch(50)\n",
    "        if i%100 == 0:\n",
    "            train_accuracy = accuracy.eval(feed_dict={x:batch[0], y_: batch[1], keep_prob: 1.0})\n",
    "            print(\"step %d, training accuracy %g\"%(i, train_accuracy))\n",
    "        train_step.run(feed_dict={x: batch[0], y_: batch[1], keep_prob: 0.5})\n",
    "\n",
    "    print(\"test accuracy %g\"%accuracy.eval(feed_dict={\n",
    "        x: mnist.test.images, y_: mnist.test.labels, keep_prob: 1.0}))\n",
    "    \n",
    "    # Save the variables to disk.\n",
    "    \n",
    "    save_path = saver.save(sess, \"one_sided.ckpt\")\n",
    "    print(\"Model saved in file: %s\" % save_path)"
   ]
  },
  {
   "cell_type": "code",
   "execution_count": 22,
   "metadata": {
    "collapsed": false
   },
   "outputs": [
    {
     "name": "stdout",
     "output_type": "stream",
     "text": [
      "Model restored.\n"
     ]
    },
    {
     "data": {
      "image/png": "[encoded data removed]",
      "text/plain": [
       "<matplotlib.figure.Figure at 0x1115a6990>"
      ]
     },
     "metadata": {},
     "output_type": "display_data"
    }
   ],
   "source": [
    "saver = tf.train.Saver({\"W1\": W_conv1, \"W2\": W_conv2,\"W3\": W_conv3,\n",
    "                        \"b1\": b_conv1,\"b2\": b_conv2,\"b3\": b_conv3,\n",
    "                        \"W_fc1\": W_fc1, \"b_fc1\": b_fc1,\n",
    "                        \"W_fc2\": W_fc2, \"b_fc2\": b_fc2})\n",
    "\n",
    "# Later, launch the model, use the saver to restore variables from disk, and\n",
    "# do some work with the model.\n",
    "with tf.Session() as sess:\n",
    "\n",
    "    sess.run(tf.initialize_all_variables())\n",
    "    \n",
    "    saver.restore(sess, \"one_sided.ckpt\")\n",
    "    print(\"Model restored.\")\n",
    "    \n",
    "    batch = generate_batch_mnist(50)\n",
    "    left, right, label = batch[0], batch[1], batch[2]\n",
    "    left_output = h_pool3_flat.eval(feed_dict={x:left, y_: mnist.train.next_batch(50)[1], keep_prob: 1.0})\n",
    "    right_output = h_pool3_flat.eval(feed_dict={x:right, y_: mnist.train.next_batch(50)[1], keep_prob: 1.0})\n",
    "    left_output_norm, right_output_norm = np.linalg.norm(left_output), np.linalg.norm(right_output)\n",
    "    \n",
    "    \n",
    "#     fpr, tpr, _ = roc_curve(label, -np.linalg.norm(left_output-right_output, axis=1))\n",
    "    \n",
    "    fpr, tpr, _ = roc_curve(label, np.sum(left_output*right_output/(left_output_norm*right_output_norm),axis=1))\n",
    "\n",
    "    # Contrastive Divergence\n",
    "#     cd = np.zeros(50)\n",
    "#     diff = left_output-right_output\n",
    "#     for i in range(50):\n",
    "#         cd[i] = np.linalg.norm(diff[i])*label[i]+(1-label[i])*np.square(np.max([0,5-np.linalg.norm(diff[i])]))\n",
    "#     fpr, tpr, _ = roc_curve(label, -cd)\n",
    "\n",
    "    plt.plot(fpr, tpr)\n",
    "    plt.plot([0, 1], [0, 1], 'k--')\n",
    "    plt.xlim([0.0, 1.0])\n",
    "    plt.ylim([0.0, 1.05])\n",
    "    plt.xlabel('False Positive Rate')\n",
    "    plt.ylabel('True Positive Rate')\n",
    "    plt.legend(['AUC is %.3f' %auc(fpr, tpr)], loc=4)"
   ]
  },
  {
   "cell_type": "code",
   "execution_count": null,
   "metadata": {
    "collapsed": true
   },
   "outputs": [],
   "source": []
  }
 ],
 "metadata": {
  "kernelspec": {
   "display_name": "Python 2",
   "language": "python",
   "name": "python2"
  },
  "language_info": {
   "codemirror_mode": {
    "name": "ipython",
    "version": 2
   },
   "file_extension": ".py",
   "mimetype": "text/x-python",
   "name": "python",
   "nbconvert_exporter": "python",
   "pygments_lexer": "ipython2",
   "version": "2.7.10"
  }
 },
 "nbformat": 4,
 "nbformat_minor": 0
}
