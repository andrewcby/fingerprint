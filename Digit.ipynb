{
 "cells": [
  {
   "cell_type": "code",
   "execution_count": 1,
   "metadata": {
    "collapsed": false
   },
   "outputs": [
    {
     "name": "stdout",
     "output_type": "stream",
     "text": [
      "Extracting MNIST_data/train-images-idx3-ubyte.gz\n",
      "Extracting MNIST_data/train-labels-idx1-ubyte.gz\n",
      "Extracting MNIST_data/t10k-images-idx3-ubyte.gz\n",
      "Extracting MNIST_data/t10k-labels-idx1-ubyte.gz\n"
     ]
    }
   ],
   "source": [
    "import os, random\n",
    "\n",
    "import numpy as np\n",
    "import tensorflow as tf\n",
    "import matplotlib.pyplot as plt\n",
    "# import InterfacePreprocessing as IntPre\n",
    "\n",
    "from PIL import Image\n",
    "from scipy.ndimage import imread\n",
    "from scipy.misc import imresize\n",
    "from sklearn.metrics import roc_curve, auc\n",
    "from tensorflow.examples.tutorials.mnist import input_data\n",
    "\n",
    "mnist = input_data.read_data_sets('MNIST_data', one_hot=True)\n",
    "\n",
    "%matplotlib inline"
   ]
  },
  {
   "cell_type": "code",
   "execution_count": 2,
   "metadata": {
    "collapsed": true
   },
   "outputs": [],
   "source": [
    "def weight_variable(shape):\n",
    "    initial = tf.truncated_normal(shape, stddev=0.1)\n",
    "    return tf.Variable(initial)\n",
    "\n",
    "def bias_variable(shape):\n",
    "    initial = tf.constant(0.3, shape=shape)\n",
    "    return tf.Variable(initial)\n",
    "\n",
    "def conv2d(x, W, stride=[1, 1, 1, 1]):\n",
    "    return tf.nn.conv2d(x, W, strides=stride, padding='SAME')\n",
    "\n",
    "def max_pool_2x2(x):\n",
    "    return tf.nn.max_pool(x, ksize=[1, 2, 2, 1],\n",
    "                        strides=[1, 2, 2, 1], padding='SAME')\n",
    "\n",
    "def generate_batch_mnist(n, mode='train'):\n",
    "    x, x_p = np.zeros((n, 784)), np.zeros((n, 784))\n",
    "    y = np.zeros((n,1))\n",
    "    \n",
    "    matched = 0\n",
    "    mismatched = np.round(n/2)\n",
    "    while matched < np.round(n/2):\n",
    "        if mode == 'train':\n",
    "            batch = mnist.train.next_batch(2, )\n",
    "        elif mode == 'test':\n",
    "            batch = mnist.test.next_batch(2)\n",
    "        else:\n",
    "            batch = mnist.validation.next_batch(2)\n",
    "        \n",
    "        if np.argmax(batch[1],axis=1)[0] == np.argmax(batch[1],axis=1)[1]:\n",
    "            x[matched,:] = batch[0][0,:]\n",
    "            x_p[matched,:] = batch[0][1,:]\n",
    "            y[matched] = 1\n",
    "            matched += 1\n",
    "            \n",
    "        elif mismatched > 0:\n",
    "            x[-mismatched,:] = batch[0][0,:]\n",
    "            x_p[-mismatched,:] = batch[0][1,:]\n",
    "            mismatched -= 1\n",
    "            \n",
    "    return [x, x_p, y]  \n",
    "\n",
    "def batch_mnist(n, mode='train'):\n",
    "    x, x_p = np.zeros((n, 784)), np.zeros((n, 784))\n",
    "    y = np.zeros((n,1))\n",
    "    y_label = np.zeros((n,10))\n",
    "    y_p_label = np.zeros((n,10))\n",
    "    \n",
    "    matched = 0\n",
    "    mismatched = np.round(n/2)\n",
    "    while matched < np.round(n/2):\n",
    "        if mode == 'train':\n",
    "            batch = mnist.train.next_batch(2, )\n",
    "        elif mode == 'test':\n",
    "            batch = mnist.test.next_batch(2)\n",
    "        else:\n",
    "            batch = mnist.validation.next_batch(2)\n",
    "        \n",
    "        if np.argmax(batch[1],axis=1)[0] == np.argmax(batch[1],axis=1)[1]:\n",
    "            x[matched,:] = batch[0][0,:]\n",
    "            x_p[matched,:] = batch[0][1,:]\n",
    "            y[matched] = 1\n",
    "            y_label[matched,:] = batch[1][0]\n",
    "            y_p_label[matched,:] = batch[1][1]\n",
    "            matched += 1\n",
    "            \n",
    "        elif mismatched > 0:\n",
    "            x[-mismatched,:] = batch[0][0,:]\n",
    "            x_p[-mismatched,:] = batch[0][1,:]\n",
    "            y_label[-mismatched,:] = batch[1][0]\n",
    "            y_p_label[-mismatched,:] = batch[1][1]\n",
    "            mismatched -= 1\n",
    "            \n",
    "    return [x, x_p, y, y_label, y_p_label]  "
   ]
  },
  {
   "cell_type": "code",
   "execution_count": 3,
   "metadata": {
    "collapsed": false
   },
   "outputs": [],
   "source": [
    "x = tf.placeholder(tf.float32, shape=[None, 784])\n",
    "y_ = tf.placeholder(tf.float32, shape=[None, 10])\n",
    "\n",
    "x_image = tf.reshape(x, [-1,28,28,1])\n",
    "\n",
    "# 1 - output 14*14*20\n",
    "\n",
    "W_conv1 = weight_variable([7, 7, 1, 20])\n",
    "b_conv1 = bias_variable([20])\n",
    "\n",
    "h_conv1 = tf.nn.relu(conv2d(x_image, W_conv1) + b_conv1)\n",
    "h_pool1 = max_pool_2x2(h_conv1)\n",
    "\n",
    "# 2 - output 7*7*80\n",
    "\n",
    "W_conv2 = weight_variable([5, 5, 20, 40])\n",
    "b_conv2 = bias_variable([40])\n",
    "\n",
    "h_conv2 = tf.nn.relu(conv2d(h_pool1, W_conv2) + b_conv2)\n",
    "h_pool2 = max_pool_2x2(h_conv2)\n",
    "\n",
    "# 3 - output 4*4*320\n",
    "\n",
    "W_conv3 = weight_variable([5, 5, 40, 80])\n",
    "b_conv3 = bias_variable([80])\n",
    "\n",
    "h_conv3 = tf.nn.relu(conv2d(h_pool2, W_conv3) + b_conv3)\n",
    "h_pool3 = max_pool_2x2(h_conv3)\n",
    "\n",
    "# fc\n",
    "\n",
    "W_fc1 = weight_variable([4*4*80, 1024])\n",
    "b_fc1 = bias_variable([1024])\n",
    "\n",
    "h_pool3_flat = tf.reshape(h_pool3, [-1, 4*4*80])\n",
    "h_fc1 = tf.nn.relu(tf.matmul(h_pool3_flat, W_fc1) + b_fc1)\n",
    "\n",
    "keep_prob = tf.placeholder(tf.float32)\n",
    "h_fc1_drop = tf.nn.dropout(h_fc1, keep_prob)\n",
    "\n",
    "W_fc2 = weight_variable([1024, 10])\n",
    "b_fc2 = bias_variable([10])\n",
    "\n",
    "y_conv=tf.nn.softmax(tf.matmul(h_fc1_drop, W_fc2) + b_fc2)\n",
    "\n",
    "\n",
    "h_fc1_flat = tf.reshape(h_fc1, [-1,1024])\n",
    "h_fc1_norm = tf.sqrt(tf.reduce_sum(tf.square(h_fc1_flat)))\n",
    "\n",
    "cross_entropy = tf.reduce_mean(-tf.reduce_sum(y_ * tf.log(y_conv), reduction_indices=[1]))\n",
    "train_step = tf.train.AdamOptimizer(1e-4).minimize(cross_entropy)\n",
    "correct_prediction = tf.equal(tf.argmax(y_conv,1), tf.argmax(y_,1))\n",
    "accuracy = tf.reduce_mean(tf.cast(correct_prediction, tf.float32))"
   ]
  },
  {
   "cell_type": "markdown",
   "metadata": {},
   "source": [
    "# Working Code of plain simple training for digit classification\n",
    "\n",
    "Test accuracy around 95%"
   ]
  },
  {
   "cell_type": "code",
   "execution_count": null,
   "metadata": {
    "collapsed": false
   },
   "outputs": [],
   "source": [
    "cross_entropy = tf.reduce_mean(-tf.reduce_sum(y_ * tf.log(y_conv), reduction_indices=[1]))\n",
    "train_step = tf.train.AdamOptimizer(1e-4).minimize(cross_entropy)\n",
    "correct_prediction = tf.equal(tf.argmax(y_conv,1), tf.argmax(y_,1))\n",
    "accuracy = tf.reduce_mean(tf.cast(correct_prediction, tf.float32))\n",
    "\n",
    "trainlab = tf.argmax(y_,1)\n",
    "predlab = tf.argmax(y_conv,1)\n",
    "\n",
    "sess = tf.InteractiveSession()\n",
    "sess.run(tf.initialize_all_variables())\n",
    "for i in range(1000):\n",
    "    batch = mnist.train.next_batch(50)\n",
    "    if i%25 == 0:\n",
    "        train_accuracy = accuracy.eval(feed_dict={x:batch[0], y_: batch[1], keep_prob: 1.0})\n",
    "        print(\"step %d, training accuracy %g\"%(i, train_accuracy))\n",
    "#         print trainlab.eval(feed_dict={x:batch[0], y_: batch[1], keep_prob: 1.0})[0:10], predlab.eval(feed_dict={x:batch[0], y_: batch[1], keep_prob: 1.0})[0:10]\n",
    "    train_step.run(feed_dict={x: batch[0], y_: batch[1], keep_prob: 0.5})\n",
    "\n",
    "print(\"test accuracy %g\"%accuracy.eval(feed_dict={\n",
    "    x: mnist.test.images, y_: mnist.test.labels, keep_prob: 1.0}))"
   ]
  },
  {
   "cell_type": "markdown",
   "metadata": {},
   "source": [
    "# Save and read state for simple digit classification"
   ]
  },
  {
   "cell_type": "code",
   "execution_count": null,
   "metadata": {
    "collapsed": false
   },
   "outputs": [],
   "source": [
    "saver = tf.train.Saver({\"W1\": W_conv1, \"W2\": W_conv2,\"W3\": W_conv3,\n",
    "                        \"b1\": b_conv1,\"b2\": b_conv2,\"b3\": b_conv3,\n",
    "                        \"W_fc1\": W_fc1, \"b_fc1\": b_fc1,\n",
    "                        \"W_fc2\": W_fc2, \"b_fc2\": b_fc2})\n",
    "\n",
    "init_op = tf.initialize_all_variables()\n",
    "\n",
    "# Later, launch the model, initialize the variables, do some work, save the\n",
    "# variables to disk.\n",
    "with tf.Session() as sess:\n",
    "    sess.run(init_op)\n",
    "    \n",
    "    # Do some work with the model.\n",
    "    cross_entropy = tf.reduce_mean(-tf.reduce_sum(y_ * tf.log(y_conv), reduction_indices=[1]))\n",
    "    train_step = tf.train.AdamOptimizer(1e-4).minimize(cross_entropy)\n",
    "    correct_prediction = tf.equal(tf.argmax(y_conv,1), tf.argmax(y_,1))\n",
    "    accuracy = tf.reduce_mean(tf.cast(correct_prediction, tf.float32))\n",
    "    \n",
    "    sess.run(tf.initialize_all_variables())\n",
    "    \n",
    "    for i in range(1000):\n",
    "        batch = mnist.train.next_batch(50)\n",
    "        if i%100 == 0:\n",
    "            train_accuracy = accuracy.eval(feed_dict={x:batch[0], y_: batch[1], keep_prob: 1.0})\n",
    "            print(\"step %d, training accuracy %g\"%(i, train_accuracy))\n",
    "        train_step.run(feed_dict={x: batch[0], y_: batch[1], keep_prob: 0.5})\n",
    "\n",
    "    print(\"test accuracy %g\"%accuracy.eval(feed_dict={\n",
    "        x: mnist.test.images, y_: mnist.test.labels, keep_prob: 1.0}))\n",
    "    \n",
    "    # Save the variables to disk.\n",
    "    \n",
    "    save_path = saver.save(sess, \"one_sided.ckpt\")\n",
    "    print(\"Model saved in file: %s\" % save_path)"
   ]
  },
  {
   "cell_type": "code",
   "execution_count": null,
   "metadata": {
    "collapsed": false
   },
   "outputs": [],
   "source": [
    "saver = tf.train.Saver({\"W1\": W_conv1, \"W2\": W_conv2,\"W3\": W_conv3,\n",
    "                        \"b1\": b_conv1,\"b2\": b_conv2,\"b3\": b_conv3,\n",
    "                        \"W_fc1\": W_fc1, \"b_fc1\": b_fc1,\n",
    "                        \"W_fc2\": W_fc2, \"b_fc2\": b_fc2})\n",
    "\n",
    "# Later, launch the model, use the saver to restore variables from disk, and\n",
    "# do some work with the model.\n",
    "with tf.Session() as sess:\n",
    "\n",
    "    sess.run(tf.initialize_all_variables())\n",
    "    \n",
    "    saver.restore(sess, \"one_sided.ckpt\")\n",
    "    print(\"Model restored.\")\n",
    "    \n",
    "    batch = generate_batch_mnist(50)\n",
    "    left, right, label = batch[0], batch[1], batch[2]\n",
    "    left_output = h_fc1.eval(feed_dict={x:left, y_: mnist.train.next_batch(50)[1], keep_prob: 1.0})\n",
    "    right_output = h_fc1.eval(feed_dict={x:right, y_: mnist.train.next_batch(50)[1], keep_prob: 1.0})\n",
    "    left_output_norm, right_output_norm = np.linalg.norm(left_output), np.linalg.norm(right_output)\n",
    "    \n",
    "    \n",
    "#     fpr, tpr, _ = roc_curve(label, -np.linalg.norm(left_output-right_output, axis=1))\n",
    "    \n",
    "    fpr, tpr, _ = roc_curve(label, np.sum(left_output*right_output/(left_output_norm*right_output_norm),axis=1))\n",
    "\n",
    "#     # Contrastive Divergence - not really working\n",
    "#     cd = np.zeros(50)\n",
    "#     diff = left_output-right_output\n",
    "#     for i in range(50):\n",
    "#         cd[i] = np.linalg.norm(diff[i])*label[i]+(1-label[i])*np.square(np.max([0,5-np.linalg.norm(diff[i])]))\n",
    "#     fpr, tpr, _ = roc_curve(label, -cd)\n",
    "\n",
    "    plt.plot(fpr, tpr)\n",
    "    plt.plot([0, 1], [0, 1], 'k--')\n",
    "    plt.xlim([0.0, 1.0])\n",
    "    plt.ylim([0.0, 1.05])\n",
    "    plt.xlabel('False Positive Rate')\n",
    "    plt.ylabel('True Positive Rate')\n",
    "    plt.legend(['AUC is %.3f' %auc(fpr, tpr)], loc=4)"
   ]
  },
  {
   "cell_type": "markdown",
   "metadata": {},
   "source": [
    "# Train as digit classification and then doubling up into a siamese net. At every 100 iterations produced AUC of an unseen dataset"
   ]
  },
  {
   "cell_type": "code",
   "execution_count": 6,
   "metadata": {
    "collapsed": false,
    "scrolled": false
   },
   "outputs": [
    {
     "name": "stdout",
     "output_type": "stream",
     "text": [
      "step 0, training auc 0.544\n",
      "step 100, training auc 0.6832\n",
      "step 200, training auc 0.7824\n",
      "step 300, training auc 0.8048\n",
      "step 400, training auc 0.7776\n",
      "step 500, training auc 0.8352\n",
      "step 600, training auc 0.856\n",
      "step 700, training auc 0.8256\n",
      "step 800, training auc 0.9072\n",
      "step 900, training auc 0.8544\n",
      "step 1000, training auc 0.8032\n",
      "step 1100, training auc 0.9168\n",
      "step 1200, training auc 0.9136\n",
      "step 1300, training auc 0.8512\n",
      "step 1400, training auc 0.8896\n",
      "step 1500, training auc 0.8864\n",
      "step 1600, training auc 0.864\n",
      "step 1700, training auc 0.8736\n",
      "step 1800, training auc 0.9488\n",
      "step 1900, training auc 0.904\n",
      "step 2000, training auc 0.9312\n",
      "step 2100, training auc 0.952\n",
      "step 2200, training auc 0.8656\n",
      "step 2300, training auc 0.912\n",
      "step 2400, training auc 0.8672\n",
      "step 2500, training auc 0.96\n",
      "step 2600, training auc 0.6752\n",
      "step 2700, training auc 0.9136\n",
      "step 2800, training auc 0.8416\n",
      "step 2900, training auc 0.8944\n",
      "step 3000, training auc 0.9088\n",
      "step 3100, training auc 0.9424\n",
      "step 3200, training auc 0.9488\n",
      "step 3300, training auc 0.8576\n",
      "step 3400, training auc 0.9392\n",
      "step 3500, training auc 0.9728\n",
      "step 3600, training auc 0.9392\n",
      "step 3700, training auc 0.9072\n",
      "step 3800, training auc 0.9808\n",
      "step 3900, training auc 0.9456\n",
      "step 4000, training auc 0.9008\n",
      "step 4100, training auc 0.8976\n",
      "step 4200, training auc 0.952\n",
      "step 4300, training auc 0.9344\n",
      "step 4400, training auc 0.9792\n",
      "step 4500, training auc 0.9312\n",
      "step 4600, training auc 0.9744\n",
      "step 4700, training auc 0.8112\n",
      "step 4800, training auc 0.9024\n",
      "step 4900, training auc 0.8944\n"
     ]
    }
   ],
   "source": [
    "cross_entropy = tf.reduce_mean(-tf.reduce_sum(y_ * tf.log(y_conv), reduction_indices=[1]))\n",
    "train_step = tf.train.AdamOptimizer(1e-4).minimize(cross_entropy)\n",
    "correct_prediction = tf.equal(tf.argmax(y_conv,1), tf.argmax(y_,1))\n",
    "accuracy = tf.reduce_mean(tf.cast(correct_prediction, tf.float32))\n",
    "\n",
    "auc_list = []\n",
    "\n",
    "trainlab = tf.argmax(y_,1)\n",
    "predlab = tf.argmax(y_conv,1)\n",
    "sess = tf.InteractiveSession()\n",
    "sess.run(tf.initialize_all_variables())\n",
    "\n",
    "for i in range(5000):\n",
    "    batch = mnist.test.next_batch(50)\n",
    "    if i%100 == 0:\n",
    "        auc_batch = batch_mnist(50, 'test')\n",
    "        d1 = h_fc1_flat.eval(feed_dict={x:auc_batch[0], y_: auc_batch[3], keep_prob: 1.0})\n",
    "        d1_norm = h_fc1_norm.eval(feed_dict={x:auc_batch[0], y_: auc_batch[3], keep_prob: 1.0})\n",
    "        \n",
    "        d2 = h_fc1_flat.eval(feed_dict={x:auc_batch[1], y_: auc_batch[4], keep_prob: 1.0})\n",
    "        d2_norm = h_fc1_norm.eval(feed_dict={x:auc_batch[1], y_: auc_batch[4], keep_prob: 1.0})\n",
    "        \n",
    "        distance = np.sum(np.multiply(d1, d2), axis=1)/d1_norm*d2_norm\n",
    "        fpr, tpr, _ = roc_curve(auc_batch[2], distance)\n",
    "        roc_auc = auc(fpr, tpr)\n",
    "        auc_list.append(roc_auc)\n",
    "        print(\"step %d, training auc %g\"%(i, roc_auc))\n",
    "        \n",
    "    train_step.run(feed_dict={x: batch[0], y_: batch[1], keep_prob: 0.5})\n"
   ]
  },
  {
   "cell_type": "code",
   "execution_count": 9,
   "metadata": {
    "collapsed": false
   },
   "outputs": [
    {
     "data": {
      "text/plain": [
       "<matplotlib.text.Text at 0x112c28650>"
      ]
     },
     "execution_count": 9,
     "metadata": {},
     "output_type": "execute_result"
    },
    {
     "data": {
      "image/png": "[encoded data removed]",
      "text/plain": [
       "<matplotlib.figure.Figure at 0x1169add10>"
      ]
     },
     "metadata": {},
     "output_type": "display_data"
    }
   ],
   "source": [
    "plt.plot(np.linspace(0,5000,50),auc_list)\n",
    "plt.title('AUC vs. Iterations')\n",
    "plt.xlabel('Iterations')\n",
    "plt.ylabel('AUC')"
   ]
  },
  {
   "cell_type": "code",
   "execution_count": 21,
   "metadata": {
    "collapsed": false
   },
   "outputs": [
    {
     "data": {
      "text/plain": [
       "<matplotlib.legend.Legend at 0x113a37190>"
      ]
     },
     "execution_count": 21,
     "metadata": {},
     "output_type": "execute_result"
    },
    {
     "data": {
      "image/png": "[encoded data removed]",
      "text/plain": [
       "<matplotlib.figure.Figure at 0x11be79dd0>"
      ]
     },
     "metadata": {},
     "output_type": "display_data"
    }
   ],
   "source": [
    "auc_batch = generate_batch_mnist(50, 'validation')\n",
    "d1 = h_fc1_flat.eval(feed_dict={x:auc_batch[0], y_: mnist.train.next_batch(50)[1], keep_prob: 1.0})\n",
    "d1_norm = h_fc1_norm.eval(feed_dict={x:auc_batch[0], y_: mnist.train.next_batch(50)[1], keep_prob: 1.0})\n",
    "\n",
    "d2 = h_fc1_flat.eval(feed_dict={x:auc_batch[1], y_: mnist.train.next_batch(50)[1], keep_prob: 1.0})\n",
    "d2_norm = h_fc1_norm.eval(feed_dict={x:auc_batch[1], y_: mnist.train.next_batch(50)[1], keep_prob: 1.0})\n",
    "\n",
    "distance = np.sum(np.multiply(d1, d2), axis=1)/d1_norm*d2_norm\n",
    "fpr, tpr, _ = roc_curve(auc_batch[2], distance)\n",
    "roc_auc = auc(fpr, tpr)\n",
    "plt.plot(fpr, tpr, label='AUC= '+str(roc_auc))\n",
    "plt.plot([0, 1], [0, 1], 'k--')\n",
    "plt.xlim([0.0, 1.0])\n",
    "plt.ylim([0.0, 1.05])\n",
    "plt.xlabel('False Positive Rate')\n",
    "plt.ylabel('True Positive Rate')\n",
    "plt.title('Receiver operating characteristic example')\n",
    "plt.legend(loc=\"lower right\")"
   ]
  },
  {
   "cell_type": "code",
   "execution_count": null,
   "metadata": {
    "collapsed": true
   },
   "outputs": [],
   "source": []
  }
 ],
 "metadata": {
  "kernelspec": {
   "display_name": "Python 2",
   "language": "python",
   "name": "python2"
  },
  "language_info": {
   "codemirror_mode": {
    "name": "ipython",
    "version": 2
   },
   "file_extension": ".py",
   "mimetype": "text/x-python",
   "name": "python",
   "nbconvert_exporter": "python",
   "pygments_lexer": "ipython2",
   "version": "2.7.10"
  }
 },
 "nbformat": 4,
 "nbformat_minor": 0
}
