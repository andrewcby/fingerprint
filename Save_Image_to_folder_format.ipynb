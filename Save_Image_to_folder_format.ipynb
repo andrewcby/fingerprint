{
 "cells": [
  {
   "cell_type": "code",
   "execution_count": 1,
   "metadata": {
    "collapsed": true
   },
   "outputs": [],
   "source": [
    "import os, Image\n",
    "import numpy as np\n",
    "\n",
    "from os import listdir\n",
    "from os.path import isfile, join\n",
    "from scipy import misc"
   ]
  },
  {
   "cell_type": "code",
   "execution_count": 2,
   "metadata": {
    "collapsed": true
   },
   "outputs": [],
   "source": [
    "def assure_path_exists(path):\n",
    "    dir = os.path.dirname(path)\n",
    "    if not os.path.exists(dir):\n",
    "        os.makedirs(dir)"
   ]
  },
  {
   "cell_type": "code",
   "execution_count": 4,
   "metadata": {
    "collapsed": false
   },
   "outputs": [],
   "source": [
    "match_file_names = [f for f in listdir('./Full_CASIA/Match/') if ('.png' in f and '862' not in f)]\n",
    "mismatch_file_names = [f for f in listdir('../Full_CASIA/MisMatch2/') if ('.png' in f and '3983' not in f)]"
   ]
  },
  {
   "cell_type": "code",
   "execution_count": 5,
   "metadata": {
    "collapsed": false
   },
   "outputs": [],
   "source": [
    "match_files = dict()\n",
    "mismatch_files = dict()\n",
    "\n",
    "for f in match_file_names:\n",
    "\n",
    "    image_id = f.split('_')[0]\n",
    "    if image_id in match_files.keys():\n",
    "        if not f in match_files[image_id]:\n",
    "            match_files[image_id].append(f[:-4])\n",
    "    else:\n",
    "        match_files[image_id] = []\n",
    "        match_files[image_id].append(f[:-4])\n",
    "        \n",
    "for f in mismatch_file_names:\n",
    "\n",
    "    image_id = f.split('_')[0]\n",
    "    if image_id in mismatch_files.keys():\n",
    "        if not f in mismatch_files[image_id]:\n",
    "            mismatch_files[image_id].append(f[:-4])\n",
    "    else:\n",
    "        mismatch_files[image_id] = []\n",
    "        mismatch_files[image_id].append(f[:-4])\n",
    "        \n",
    "# Check if there's any loner files (incomplete)\n",
    "for f in mismatch_file_names:\n",
    "    image_id = f.split('_')[0]\n",
    "    if len(mismatch_files[image_id]) < 12:\n",
    "        print image_id"
   ]
  },
  {
   "cell_type": "code",
   "execution_count": 6,
   "metadata": {
    "collapsed": false
   },
   "outputs": [],
   "source": [
    "match_file_path = './Full_CASIA/Match/'\n",
    "mismatch_file_path = '../Full_CASIA/MisMatch2/'\n",
    "\n",
    "match_output_path = './Processed_Full_CASIA/Match/'\n",
    "mismatch_output_path = '../Fingerprint_Data/Processed_Full_CASIA/MisMatch2/'\n",
    "\n",
    "# Now construct match folder\n",
    "for key in match_files.keys():\n",
    "    path = match_output_path+key+'/'\n",
    "    if not os.path.exists(path):\n",
    "        os.makedirs(path)\n",
    "    for img in match_files[key]:\n",
    "        raw_im = misc.imread(match_file_path+img+'.png')\n",
    "        im = Image.fromarray(raw_im)\n",
    "        misc.imsave(path + img +'.png', raw_im)\n",
    " \n",
    "\n",
    "# Now construct mismatch folder\n",
    "for key in mismatch_files.keys():\n",
    "    path = mismatch_output_path+key+'/'\n",
    "    if not os.path.exists(path):\n",
    "        os.makedirs(path)\n",
    "    for img in mismatch_files[key]:\n",
    "        raw_im = misc.imread(mismatch_file_path+img+'.png')\n",
    "        im = Image.fromarray(raw_im)\n",
    "        misc.imsave(path + img +'.png', raw_im)"
   ]
  },
  {
   "cell_type": "code",
   "execution_count": 4,
   "metadata": {
    "collapsed": false,
    "scrolled": false
   },
   "outputs": [],
   "source": [
    "# m = [f for f in listdir('../Fingerprint_Data/Processed_Full_CASIA/Match/') if 'DS' not in f]\n"
   ]
  },
  {
   "cell_type": "markdown",
   "metadata": {},
   "source": []
  },
  {
   "cell_type": "markdown",
   "metadata": {
    "collapsed": true
   },
   "source": [
    "# Extracting the raw images to separate folder"
   ]
  },
  {
   "cell_type": "code",
   "execution_count": 9,
   "metadata": {
    "collapsed": false
   },
   "outputs": [],
   "source": [
    "# match= [f for f in listdir('../Full_CASIA/Match/') if ('_0.png' in f and '862' not in f)]\n",
    "mismatch = [f for f in listdir('../Full_CASIA/MisMatch2/') if ('_0.png' in f and '3983' not in f)]"
   ]
  },
  {
   "cell_type": "code",
   "execution_count": 10,
   "metadata": {
    "collapsed": false
   },
   "outputs": [],
   "source": [
    "# match_file_path = '../Full_CASIA/Match/'\n",
    "mismatch_file_path = '../Full_CASIA/MisMatch2/'\n",
    "\n",
    "# match_output_path = '../Full_CASIA/raw/Match/'\n",
    "mismatch_output_path = '../Full_CASIA/raw/MisMatch2/'\n",
    "\n",
    "# Now construct match folder\n",
    "for f in mismatch:\n",
    "    raw_im = misc.imread(mismatch_file_path+f)\n",
    "    misc.imsave(mismatch_output_path + f, raw_im)"
   ]
  },
  {
   "cell_type": "code",
   "execution_count": 11,
   "metadata": {
    "collapsed": true
   },
   "outputs": [],
   "source": [
    "for f in mismatch:\n",
    "    raw_im = misc.imread(mismatch_file_path+f)\n",
    "    misc.imsave(mismatch_output_path + f, raw_im)"
   ]
  },
  {
   "cell_type": "code",
   "execution_count": null,
   "metadata": {
    "collapsed": true
   },
   "outputs": [],
   "source": []
  },
  {
   "cell_type": "markdown",
   "metadata": {},
   "source": [
    "# Save only selected pairs to create a good quality set"
   ]
  },
  {
   "cell_type": "code",
   "execution_count": 3,
   "metadata": {
    "collapsed": true
   },
   "outputs": [],
   "source": [
    "match_files = listdir('../Full_CASIA/raw/Match/')\n",
    "match= [f for f in match_files \\\n",
    "        if ( \\\n",
    "            '862' not in f \\\n",
    "            and \\\n",
    "            (  f.split('_')[0]+'_0_0.png' in match_files \\\n",
    "               and \\\n",
    "               f.split('_')[0]+'_1_0.png' in match_files))]\n",
    "mismatch_files = listdir('../Full_CASIA/raw/MisMatch/')\n",
    "mismatch= [f for f in mismatch_files \\\n",
    "        if ( \\\n",
    "            '3983' not in f \\\n",
    "            and \\\n",
    "            (  f.split('_')[0]+'_0_0.png' in mismatch_files \\\n",
    "               and \\\n",
    "               f.split('_')[0]+'_1_0.png' in mismatch_files))]\n"
   ]
  },
  {
   "cell_type": "code",
   "execution_count": 5,
   "metadata": {
    "collapsed": false
   },
   "outputs": [
    {
     "name": "stdout",
     "output_type": "stream",
     "text": [
      "We have 1990 pairs of matching and 2343 pairs of mismatching fingerprints.\n"
     ]
    }
   ],
   "source": [
    "print 'We have %d pairs of matching and %d pairs of mismatching fingerprints.' %(len(match)/2, len(mismatch)/2)"
   ]
  },
  {
   "cell_type": "markdown",
   "metadata": {
    "collapsed": true
   },
   "source": [
    "# Constructing the filtered set"
   ]
  },
  {
   "cell_type": "code",
   "execution_count": 12,
   "metadata": {
    "collapsed": false
   },
   "outputs": [],
   "source": [
    "filtered_matches = []\n",
    "filtered_mismatches = []\n",
    "\n",
    "for mtch in match:\n",
    "    for i in range(6):\n",
    "        tmp = mtch[:-5]+str(i)+mtch[-4:]\n",
    "        filtered_matches.append(tmp)\n",
    "for msmtch in mismatch:\n",
    "    for i in range(6):\n",
    "        tmp = msmtch[:-5]+str(i)+msmtch[-4:]\n",
    "        filtered_mismatches.append(tmp)"
   ]
  },
  {
   "cell_type": "code",
   "execution_count": 14,
   "metadata": {
    "collapsed": false
   },
   "outputs": [],
   "source": [
    "match_file_path = '../Full_CASIA/Match/'\n",
    "mismatch_file_path = '../Full_CASIA/MisMatch/'\n",
    "\n",
    "match_output_path = '../Fingerprint_Data/Processed_Full_CASIA/Match/'\n",
    "mismatch_output_path = '../Fingerprint_Data/Processed_Full_CASIA/MisMatch/'\n",
    "\n",
    "match_files = dict()\n",
    "mismatch_files = dict()\n",
    "\n",
    "for f in filtered_matches:\n",
    "\n",
    "    image_id = f.split('_')[0]\n",
    "    if image_id in match_files.keys():\n",
    "        if not f in match_files[image_id]:\n",
    "            match_files[image_id].append(f[:-4])\n",
    "    else:\n",
    "        match_files[image_id] = []\n",
    "        match_files[image_id].append(f[:-4])\n",
    "        \n",
    "for f in filtered_mismatches:\n",
    "\n",
    "    image_id = f.split('_')[0]\n",
    "    if image_id in mismatch_files.keys():\n",
    "        if not f in mismatch_files[image_id]:\n",
    "            mismatch_files[image_id].append(f[:-4])\n",
    "    else:\n",
    "        mismatch_files[image_id] = []\n",
    "        mismatch_files[image_id].append(f[:-4])\n",
    "\n",
    "# Now construct match folder\n",
    "for key in match_files.keys():\n",
    "    path = match_output_path+key+'/'\n",
    "    if not os.path.exists(path):\n",
    "        os.makedirs(path)\n",
    "    for img in match_files[key]:\n",
    "        raw_im = misc.imread(match_file_path+img+'.png')\n",
    "        im = Image.fromarray(raw_im)\n",
    "        misc.imsave(path + img +'.png', raw_im)\n",
    " \n",
    "\n",
    "# Now construct mismatch folder\n",
    "for key in mismatch_files.keys():\n",
    "    path = mismatch_output_path+key+'/'\n",
    "    if not os.path.exists(path):\n",
    "        os.makedirs(path)\n",
    "    for img in mismatch_files[key]:\n",
    "        raw_im = misc.imread(mismatch_file_path+img+'.png')\n",
    "        im = Image.fromarray(raw_im)\n",
    "        misc.imsave(path + img +'.png', raw_im)"
   ]
  },
  {
   "cell_type": "code",
   "execution_count": 9,
   "metadata": {
    "collapsed": false
   },
   "outputs": [
    {
     "data": {
      "text/plain": [
       "'1000_0_1.png'"
      ]
     },
     "execution_count": 9,
     "metadata": {},
     "output_type": "execute_result"
    }
   ],
   "source": []
  },
  {
   "cell_type": "code",
   "execution_count": null,
   "metadata": {
    "collapsed": true
   },
   "outputs": [],
   "source": []
  }
 ],
 "metadata": {
  "kernelspec": {
   "display_name": "Python 2",
   "language": "python",
   "name": "python2"
  },
  "language_info": {
   "codemirror_mode": {
    "name": "ipython",
    "version": 2
   },
   "file_extension": ".py",
   "mimetype": "text/x-python",
   "name": "python",
   "nbconvert_exporter": "python",
   "pygments_lexer": "ipython2",
   "version": "2.7.10"
  }
 },
 "nbformat": 4,
 "nbformat_minor": 0
}
