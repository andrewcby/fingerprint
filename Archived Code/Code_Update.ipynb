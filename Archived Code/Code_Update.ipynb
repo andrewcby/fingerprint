{
 "cells": [
  {
   "cell_type": "markdown",
   "metadata": {},
   "source": [
    "# ATTENTION !!!!\n",
    "### Nothing has been tested yet, so it could (but I don't think) have some bug. Carefull when you implement it."
   ]
  },
  {
   "cell_type": "markdown",
   "metadata": {},
   "source": [
    "# The load pairs function\n",
    "I just change the interpolation and suppr the .astype() useless because imresize change it (and my script deal with this problem alone)"
   ]
  },
  {
   "cell_type": "code",
   "execution_count": null,
   "metadata": {
    "collapsed": true
   },
   "outputs": [],
   "source": [
    "def load_pairs_from_preprocessed(match_path, mismatch_path):\n",
    "    images_match = dict()\n",
    "\n",
    "    for ID in range(94):\n",
    "        for pic in range(2):\n",
    "            image_temp = np.zeros((image_size,image_size,num_layer))\n",
    "            for layer in range(num_layer):\n",
    "                fname = str(ID+1)+'_'+str(pic)+'_'+str(layer)+'.png'\n",
    "                image_temp[:,:,layer] = imresize(imread(match_path+fname),[image_size,image_size],interp='bicubic')\n",
    "            images_match[str(ID+1)+'_'+str(pic)] = image_temp\n",
    "    \n",
    "    images_mismatch = dict()\n",
    "\n",
    "    for ID in range(94):\n",
    "        for pic in range(2):\n",
    "            image_temp = np.zeros((image_size,image_size,num_layer))\n",
    "            for layer in range(num_layer):\n",
    "                fname = str(ID+1)+'_'+str(pic)+'_'+str(layer)+'.png'\n",
    "                image_temp[:,:,layer] = imresize(imread(mismatch_path+fname),[image_size,image_size],interp='bicubic')\n",
    "            images_mismatch[str(ID+1)+'_'+str(pic)] = image_temp\n",
    "            \n",
    "    return images_match, images_mismatch"
   ]
  },
  {
   "cell_type": "markdown",
   "metadata": {},
   "source": [
    "# Batch without duplicate\n",
    "I just add the 2 lines after \"# To use only one each pairs\" and a security to don't create batch bigger than we can"
   ]
  },
  {
   "cell_type": "code",
   "execution_count": null,
   "metadata": {
    "collapsed": true
   },
   "outputs": [],
   "source": [
    "def generate_batch_pairs_from_preprocessed(images_match, images_mismatch, num, image_size):\n",
    "        \n",
    "    x = np.zeros((num, image_size*image_size*num_layer))\n",
    "    x_p = np.zeros((num, image_size*image_size*num_layer))\n",
    "    y = np.ones((num, 1))*-1\n",
    "    match = int(np.round(num*0.5))\n",
    "    mis_match = num - match\n",
    "\n",
    "    keys_mismatch = images_mismatch.keys()\n",
    "\n",
    "    if mis_match > len(keys_mismatch):\n",
    "        mis_match = len(keys_mismatch)\n",
    "        print 'Number of Mismatch wanted to big !!!!'\n",
    "\n",
    "    for i in range(mis_match):\n",
    "        ID = random.choice(keys_mismatch)[:-1]\n",
    "        img = images_mismatch[ID + '0']\n",
    "        img_p = images_mismatch[ID + '1']\n",
    "        # To use only one each pairs\n",
    "        keys_match.remove(img)\n",
    "        keys_match.remove(img_p)\n",
    "        x[i,:] = np.reshape(img, (1,image_size*image_size*num_layer))\n",
    "        x_p[i,:] = np.reshape(img_p, (1,image_size*image_size*num_layer))\n",
    "        y[i] = 0\n",
    "\n",
    "    keys_match = images_match.keys()\n",
    "\n",
    "    if match > len(keys_match):\n",
    "        match = len(keys_match)\n",
    "        print 'Number of Match wanted to big !!!!'\n",
    "\n",
    "    for i in range(match):\n",
    "        ID = random.choice(keys_match)[:-1]\n",
    "        img = images_match[ID + '0']\n",
    "        img_p = images_match[ID + '1']\n",
    "        # To use only each pairs once\n",
    "        keys_match.remove(img)\n",
    "        keys_match.remove(img_p)\n",
    "        x[mis_match+i,:] = np.reshape(img, (1,image_size*image_size*num_layer))\n",
    "        x_p[mis_match+i,:] = np.reshape(img_p, (1,image_size*image_size*num_layer))\n",
    "        y[mis_match+i] = 1\n",
    "    \n",
    "    return [x, x_p, y]"
   ]
  },
  {
   "cell_type": "markdown",
   "metadata": {},
   "source": [
    "# Suffle a batch\n",
    "For suffle a batch ^^"
   ]
  },
  {
   "cell_type": "code",
   "execution_count": null,
   "metadata": {
    "collapsed": true
   },
   "outputs": [],
   "source": [
    "def suffle_all(x, x_p, y):\n",
    "    x_shuffle = []\n",
    "    x_p_shuffle = []\n",
    "    y_shuffle = []\n",
    "    \n",
    "    shuffle = random.shuffle(range(len(x)))\n",
    "    \n",
    "    for i in shuffle:\n",
    "        x_shuffle.append(x[i])\n",
    "        x_p_shuffle.append(x_p[i])\n",
    "        y_shuffle.append(y[i])\n",
    "\n",
    "    return [x_shuffle, x_p_shuffle, y_shuffle]"
   ]
  },
  {
   "cell_type": "markdown",
   "metadata": {},
   "source": [
    "# Create a eval batch different from the train set\n",
    "Same algo as before but using the pop function"
   ]
  },
  {
   "cell_type": "code",
   "execution_count": null,
   "metadata": {
    "collapsed": true
   },
   "outputs": [],
   "source": [
    "def eval_and_train(images_match, images_mismatch, num, image_size):\n",
    "\n",
    "    x = np.zeros((num, image_size*image_size*num_layer))\n",
    "    x_p = np.zeros((num, image_size*image_size*num_layer))\n",
    "    y = np.ones((num, 1))*-1\n",
    "    match = int(np.round(num*0.5))\n",
    "    mis_match = num - match\n",
    "\n",
    "    keys_mismatch = images_mismatch.keys()\n",
    "    for i in range(mis_match):\n",
    "        ID = random.choice(keys_mismatch)[:-1]\n",
    "        img = images_mismatch.pop(ID + '0')\n",
    "        img_p = images_mismatch.pop(ID + '1')\n",
    "        # To use only one each pairs\n",
    "        keys_match.remove(img)\n",
    "        keys_match.remove(img_p)\n",
    "        x[i,:] = np.reshape(img, (1,image_size*image_size*num_layer))\n",
    "        x_p[i,:] = np.reshape(img_p, (1,image_size*image_size*num_layer))\n",
    "        y[i] = 0\n",
    "\n",
    "    keys_match = images_match.keys()\n",
    "    for i in range(match):\n",
    "        ID = random.choice(keys_match)[:-1]\n",
    "        img = images_match.pop(ID + '0')\n",
    "        img_p = images_match.pop(ID + '1')\n",
    "        # To use only one each pairs\n",
    "        keys_match.remove(img)\n",
    "        keys_match.remove(img_p)\n",
    "        x[mis_match+i,:] = np.reshape(img, (1,image_size*image_size*num_layer))\n",
    "        x_p[mis_match+i,:] = np.reshape(img_p, (1,image_size*image_size*num_layer))\n",
    "        y[mis_match+i] = 1\n",
    "    \n",
    "    return ((x, x_p, y), (images_match, images_mismatch))"
   ]
  }
 ],
 "metadata": {
  "kernelspec": {
   "display_name": "Python 2",
   "language": "python",
   "name": "python2"
  },
  "language_info": {
   "codemirror_mode": {
    "name": "ipython",
    "version": 2
   },
   "file_extension": ".py",
   "mimetype": "text/x-python",
   "name": "python",
   "nbconvert_exporter": "python",
   "pygments_lexer": "ipython2",
   "version": "2.7.10"
  }
 },
 "nbformat": 4,
 "nbformat_minor": 0
}
