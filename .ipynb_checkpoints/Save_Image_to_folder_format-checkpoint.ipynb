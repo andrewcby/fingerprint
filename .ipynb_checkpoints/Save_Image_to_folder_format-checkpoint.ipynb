{
 "cells": [
  {
   "cell_type": "code",
   "execution_count": 43,
   "metadata": {
    "collapsed": true
   },
   "outputs": [],
   "source": [
    "import os, Image\n",
    "import numpy as np\n",
    "\n",
    "from os import listdir\n",
    "from os.path import isfile, join\n",
    "from scipy import misc"
   ]
  },
  {
   "cell_type": "code",
   "execution_count": 34,
   "metadata": {
    "collapsed": true
   },
   "outputs": [],
   "source": [
    "def assure_path_exists(path):\n",
    "    dir = os.path.dirname(path)\n",
    "    if not os.path.exists(dir):\n",
    "        os.makedirs(dir)"
   ]
  },
  {
   "cell_type": "code",
   "execution_count": 29,
   "metadata": {
    "collapsed": false
   },
   "outputs": [],
   "source": [
    "match_file_names = [f for f in listdir('./Full_CASIA/Match/') if '.png' in f]\n",
    "mismatch_file_names = [f for f in listdir('./Full_CASIA/MisMatch/') if ('.png' in f and '3983' not in f)]"
   ]
  },
  {
   "cell_type": "code",
   "execution_count": 30,
   "metadata": {
    "collapsed": false
   },
   "outputs": [],
   "source": [
    "match_files = dict()\n",
    "mismatch_files = dict()\n",
    "\n",
    "for f in match_file_names:\n",
    "\n",
    "    image_id = f.split('_')[0]\n",
    "    if image_id in match_files.keys():\n",
    "        if not f in match_files[image_id]:\n",
    "            match_files[image_id].append(f[:-4])\n",
    "    else:\n",
    "        match_files[image_id] = []\n",
    "        match_files[image_id].append(f[:-4])\n",
    "        \n",
    "for f in mismatch_file_names:\n",
    "\n",
    "    image_id = f.split('_')[0]\n",
    "    if image_id in mismatch_files.keys():\n",
    "        if not f in mismatch_files[image_id]:\n",
    "            mismatch_files[image_id].append(f[:-4])\n",
    "    else:\n",
    "        mismatch_files[image_id] = []\n",
    "        mismatch_files[image_id].append(f[:-4])\n",
    "        \n",
    "# Check if there's any loner files (incomplete)\n",
    "for f in mismatch_file_names:\n",
    "    image_id = f.split('_')[0]\n",
    "    if len(mismatch_files[image_id]) < 12:\n",
    "        print image_id"
   ]
  },
  {
   "cell_type": "code",
   "execution_count": 32,
   "metadata": {
    "collapsed": false
   },
   "outputs": [
    {
     "data": {
      "text/plain": [
       "['593_0_0',\n",
       " '593_0_1',\n",
       " '593_0_2',\n",
       " '593_0_3',\n",
       " '593_0_4',\n",
       " '593_0_5',\n",
       " '593_1_0',\n",
       " '593_1_1',\n",
       " '593_1_2',\n",
       " '593_1_3',\n",
       " '593_1_4',\n",
       " '593_1_5',\n",
       " '593_5']"
      ]
     },
     "execution_count": 32,
     "metadata": {},
     "output_type": "execute_result"
    }
   ],
   "source": [
    "match_files[match_files.keys()[0]]"
   ]
  },
  {
   "cell_type": "code",
   "execution_count": 51,
   "metadata": {
    "collapsed": false
   },
   "outputs": [
    {
     "name": "stdout",
     "output_type": "stream",
     "text": [
      "./Processed_Full_CASIA/Match/593\n",
      "./Processed_Full_CASIA/Match/593\n",
      "./Processed_Full_CASIA/Match/593\n",
      "./Processed_Full_CASIA/Match/593\n",
      "./Processed_Full_CASIA/Match/593\n",
      "./Processed_Full_CASIA/Match/593\n",
      "./Processed_Full_CASIA/Match/593\n",
      "./Processed_Full_CASIA/Match/593\n",
      "./Processed_Full_CASIA/Match/593\n",
      "./Processed_Full_CASIA/Match/593\n",
      "./Processed_Full_CASIA/Match/593\n",
      "./Processed_Full_CASIA/Match/593\n",
      "./Processed_Full_CASIA/Match/593\n",
      "./Processed_Full_CASIA/Match/643\n",
      "./Processed_Full_CASIA/Match/643\n",
      "./Processed_Full_CASIA/Match/643\n",
      "./Processed_Full_CASIA/Match/643\n",
      "./Processed_Full_CASIA/Match/643\n",
      "./Processed_Full_CASIA/Match/643\n",
      "./Processed_Full_CASIA/Match/643\n",
      "./Processed_Full_CASIA/Match/643\n",
      "./Processed_Full_CASIA/Match/643\n",
      "./Processed_Full_CASIA/Match/643\n",
      "./Processed_Full_CASIA/Match/643\n",
      "./Processed_Full_CASIA/Match/643\n",
      "./Processed_Full_CASIA/Match/643\n",
      "./Processed_Full_CASIA/Match/592\n",
      "./Processed_Full_CASIA/Match/592\n",
      "./Processed_Full_CASIA/Match/592\n",
      "./Processed_Full_CASIA/Match/592\n",
      "./Processed_Full_CASIA/Match/592\n",
      "./Processed_Full_CASIA/Match/592\n",
      "./Processed_Full_CASIA/Match/592\n",
      "./Processed_Full_CASIA/Match/592\n",
      "./Processed_Full_CASIA/Match/592\n",
      "./Processed_Full_CASIA/Match/592\n",
      "./Processed_Full_CASIA/Match/592\n",
      "./Processed_Full_CASIA/Match/592\n",
      "./Processed_Full_CASIA/Match/592\n",
      "./Processed_Full_CASIA/Match/344\n",
      "./Processed_Full_CASIA/Match/344\n",
      "./Processed_Full_CASIA/Match/344\n",
      "./Processed_Full_CASIA/Match/344\n",
      "./Processed_Full_CASIA/Match/344\n",
      "./Processed_Full_CASIA/Match/344\n",
      "./Processed_Full_CASIA/Match/344\n",
      "./Processed_Full_CASIA/Match/344\n",
      "./Processed_Full_CASIA/Match/344\n",
      "./Processed_Full_CASIA/Match/344\n",
      "./Processed_Full_CASIA/Match/344\n",
      "./Processed_Full_CASIA/Match/344\n",
      "./Processed_Full_CASIA/Match/344\n",
      "./Processed_Full_CASIA/Match/345\n",
      "./Processed_Full_CASIA/Match/345\n",
      "./Processed_Full_CASIA/Match/345\n",
      "./Processed_Full_CASIA/Match/345\n",
      "./Processed_Full_CASIA/Match/345\n",
      "./Processed_Full_CASIA/Match/345\n",
      "./Processed_Full_CASIA/Match/345\n",
      "./Processed_Full_CASIA/Match/345\n",
      "./Processed_Full_CASIA/Match/345\n",
      "./Processed_Full_CASIA/Match/345\n",
      "./Processed_Full_CASIA/Match/345\n",
      "./Processed_Full_CASIA/Match/345\n",
      "./Processed_Full_CASIA/Match/345\n",
      "./Processed_Full_CASIA/Match/346\n",
      "./Processed_Full_CASIA/Match/346\n",
      "./Processed_Full_CASIA/Match/346\n",
      "./Processed_Full_CASIA/Match/346\n",
      "./Processed_Full_CASIA/Match/346\n",
      "./Processed_Full_CASIA/Match/346\n",
      "./Processed_Full_CASIA/Match/346\n",
      "./Processed_Full_CASIA/Match/346\n",
      "./Processed_Full_CASIA/Match/346\n",
      "./Processed_Full_CASIA/Match/346\n",
      "./Processed_Full_CASIA/Match/346\n",
      "./Processed_Full_CASIA/Match/346\n",
      "./Processed_Full_CASIA/Match/346\n",
      "./Processed_Full_CASIA/Match/347\n",
      "./Processed_Full_CASIA/Match/347\n",
      "./Processed_Full_CASIA/Match/347\n",
      "./Processed_Full_CASIA/Match/347\n",
      "./Processed_Full_CASIA/Match/347\n",
      "./Processed_Full_CASIA/Match/347\n",
      "./Processed_Full_CASIA/Match/347\n",
      "./Processed_Full_CASIA/Match/347\n",
      "./Processed_Full_CASIA/Match/347\n",
      "./Processed_Full_CASIA/Match/347\n",
      "./Processed_Full_CASIA/Match/347\n",
      "./Processed_Full_CASIA/Match/347\n",
      "./Processed_Full_CASIA/Match/347\n",
      "./Processed_Full_CASIA/Match/340\n",
      "./Processed_Full_CASIA/Match/340\n",
      "./Processed_Full_CASIA/Match/340\n",
      "./Processed_Full_CASIA/Match/340\n",
      "./Processed_Full_CASIA/Match/340\n",
      "./Processed_Full_CASIA/Match/340\n",
      "./Processed_Full_CASIA/Match/340\n",
      "./Processed_Full_CASIA/Match/340\n",
      "./Processed_Full_CASIA/Match/340\n",
      "./Processed_Full_CASIA/Match/340\n",
      "./Processed_Full_CASIA/Match/340\n",
      "./Processed_Full_CASIA/Match/340\n",
      "./Processed_Full_CASIA/Match/340\n",
      "./Processed_Full_CASIA/Match/341\n",
      "./Processed_Full_CASIA/Match/341\n",
      "./Processed_Full_CASIA/Match/341\n",
      "./Processed_Full_CASIA/Match/341\n",
      "./Processed_Full_CASIA/Match/341\n",
      "./Processed_Full_CASIA/Match/341\n",
      "./Processed_Full_CASIA/Match/341\n",
      "./Processed_Full_CASIA/Match/341\n",
      "./Processed_Full_CASIA/Match/341\n",
      "./Processed_Full_CASIA/Match/341\n",
      "./Processed_Full_CASIA/Match/341\n",
      "./Processed_Full_CASIA/Match/341\n",
      "./Processed_Full_CASIA/Match/341\n",
      "./Processed_Full_CASIA/Match/342\n",
      "./Processed_Full_CASIA/Match/342\n",
      "./Processed_Full_CASIA/Match/342\n",
      "./Processed_Full_CASIA/Match/342\n",
      "./Processed_Full_CASIA/Match/342\n",
      "./Processed_Full_CASIA/Match/342\n",
      "./Processed_Full_CASIA/Match/342\n",
      "./Processed_Full_CASIA/Match/342\n",
      "./Processed_Full_CASIA/Match/342\n",
      "./Processed_Full_CASIA/Match/342\n",
      "./Processed_Full_CASIA/Match/342\n",
      "./Processed_Full_CASIA/Match/342\n",
      "./Processed_Full_CASIA/Match/342\n"
     ]
    }
   ],
   "source": [
    "match_file_path = './Full_CASIA/Match/'\n",
    "mismatch_file_path = './Full_CASIA/MisMatch/'\n",
    "\n",
    "match_output_path = './Processed_Full_CASIA/Match/'\n",
    "mismatch_output_path = './Processed_Full_CASIA/MisMatch/'\n",
    "\n",
    "# Now construct match folder\n",
    "for key in match_files.keys()[0:10]:\n",
    "    path = match_output_path+key+'/'\n",
    "    if not os.path.exists(path):\n",
    "        os.makedirs(path)\n",
    "    for img in match_files[key]:\n",
    "        raw_im = misc.imread(match_file_path+img+'.png')\n",
    "        im = Image.fromarray(raw_im)\n",
    "        print path\n",
    "        misc.imsave(path + img +'.png', raw_im)"
   ]
  },
  {
   "cell_type": "code",
   "execution_count": 37,
   "metadata": {
    "collapsed": false
   },
   "outputs": [
    {
     "data": {
      "text/plain": [
       "'./Full_CASIA/Match/593_0_0.png'"
      ]
     },
     "execution_count": 37,
     "metadata": {},
     "output_type": "execute_result"
    }
   ],
   "source": [
    "match_file_path+img+'.png'"
   ]
  },
  {
   "cell_type": "code",
   "execution_count": 40,
   "metadata": {
    "collapsed": false
   },
   "outputs": [
    {
     "data": {
      "text/plain": [
       "'./Processed_Full_CASIA/Match/593_0_0.png'"
      ]
     },
     "execution_count": 40,
     "metadata": {},
     "output_type": "execute_result"
    }
   ],
   "source": [
    "match_output_path+ img +'.png'"
   ]
  },
  {
   "cell_type": "code",
   "execution_count": 48,
   "metadata": {
    "collapsed": true
   },
   "outputs": [],
   "source": [
    "os.makedirs('./Processed_Full_CASIA/Match/001')"
   ]
  },
  {
   "cell_type": "code",
   "execution_count": null,
   "metadata": {
    "collapsed": true
   },
   "outputs": [],
   "source": []
  },
  {
   "cell_type": "code",
   "execution_count": null,
   "metadata": {
    "collapsed": true
   },
   "outputs": [],
   "source": []
  },
  {
   "cell_type": "code",
   "execution_count": null,
   "metadata": {
    "collapsed": true
   },
   "outputs": [],
   "source": []
  }
 ],
 "metadata": {
  "kernelspec": {
   "display_name": "Python 2",
   "language": "python",
   "name": "python2"
  },
  "language_info": {
   "codemirror_mode": {
    "name": "ipython",
    "version": 2
   },
   "file_extension": ".py",
   "mimetype": "text/x-python",
   "name": "python",
   "nbconvert_exporter": "python",
   "pygments_lexer": "ipython2",
   "version": "2.7.10"
  }
 },
 "nbformat": 4,
 "nbformat_minor": 0
}
